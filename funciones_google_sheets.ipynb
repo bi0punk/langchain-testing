{
  "cells": [
    {
      "cell_type": "markdown",
      "metadata": {
        "id": "gUuTNSAGi4Ov"
      },
      "source": [
        "# Importación de bibliotecas"
      ]
    },
    {
      "cell_type": "code",
      "execution_count": null,
      "metadata": {
        "id": "olfQmWE5fs2_"
      },
      "outputs": [],
      "source": [
        "from openai import OpenAI\n",
        "from getpass import getpass"
      ]
    },
    {
      "cell_type": "markdown",
      "metadata": {
        "id": "F0ZVQRP8i6iQ"
      },
      "source": [
        "# Creación de la función"
      ]
    },
    {
      "cell_type": "markdown",
      "metadata": {
        "id": "Je6wNBvOi-ZE"
      },
      "source": [
        "## Instancia de OpenAI"
      ]
    },
    {
      "cell_type": "code",
      "execution_count": null,
      "metadata": {
        "id": "O_Hp8Ag1gRvD"
      },
      "outputs": [],
      "source": [
        "print(\"Insertar el API Key de OpenAI\")\n",
        "openai_key = getpass()\n",
        "\n",
        "client = OpenAI(api_key=openai_key)"
      ]
    },
    {
      "cell_type": "markdown",
      "metadata": {
        "id": "7F78E-_pOeOB"
      },
      "source": [
        "\n",
        "```\n",
        "Se debe crear un sheet, con esta estructura \n",
        "```\n",
        "\n",
        "Cabeceras del google sheet:\n",
        "- Fecha\n",
        "- Email\n",
        "- Nombres\n",
        "- Apellidos\n",
        "- Documento\n",
        "- Telefono"
      ]
    },
    {
      "cell_type": "code",
      "execution_count": null,
      "metadata": {
        "id": "AEXBN1X2OEee"
      },
      "outputs": [],
      "source": [
        "# Datos del Google Sheet\n",
        "import os\n",
        "from google.oauth2.service_account import Credentials\n",
        "from googleapiclient.discovery import build\n",
        "from datetime import datetime\n",
        "\n",
        "# ID de tu hoja de cálculo de Google Sheets\n",
        "# Lo encuentras en la URL:\n",
        "# https://docs.google.com/spreadsheets/d/XXXXXXXXXXXXXXX/edit#gid=0\n",
        "GOOGLE_SHEETS_SPREADSHEET_ID = \"TU_ID_GOOGLE_SHEET\"\n",
        "# Nombre de la pestaña (hoja) dentro del archivo de Google Sheets\n",
        "# Ejemplo: \"Hoja1\", \"Ventas2025\", etc.\n",
        "GOOGLE_SHEETS_NAME = \"TU_HOJA\"\n",
        "# Archivo de credenciales JSON de la cuenta de servicio\n",
        "# Lo descargas desde Google Cloud Console al habilitar la API de Google Sheets\n",
        "# Ejemplo: \"credentials.json\"\n",
        "CREDENTIALS_FILE = \"TU_ARCHIVO_CREDENTIALS.json\"\n"
      ]
    },
    {
      "cell_type": "markdown",
      "metadata": {},
      "source": [
        "Comporbar que llegamos al sheet"
      ]
    },
    {
      "cell_type": "code",
      "execution_count": null,
      "metadata": {},
      "outputs": [],
      "source": [
        "def consultar_sheet(max_filas: int = 10):\n",
        "    \"\"\"\n",
        "    Lee la fila de encabezados y hasta `max_filas` filas de datos de la hoja indicada.\n",
        "    Devuelve un dict con 'headers' y 'rows' para inspección rápida.\n",
        "\n",
        "    Args:\n",
        "        max_filas: cantidad máxima de filas de datos (sin contar encabezado) a devolver.\n",
        "\n",
        "    Returns:\n",
        "        dict: {\"headers\": [...], \"rows\": [[...], [...], ...]}\n",
        "    \"\"\"\n",
        "    try:\n",
        "        scopes = [\n",
        "            \"https://www.googleapis.com/auth/spreadsheets.readonly\",\n",
        "            \"https://www.googleapis.com/auth/drive.readonly\",\n",
        "        ]\n",
        "        creds = Credentials.from_service_account_file(CREDENTIALS_FILE, scopes=scopes)\n",
        "        service = build(\"sheets\", \"v4\", credentials=creds)\n",
        "\n",
        "        # Encabezados (primera fila)\n",
        "        headers_resp = service.spreadsheets().values().get(\n",
        "            spreadsheetId=GOOGLE_SHEETS_SPREADSHEET_ID,\n",
        "            range=f\"{GOOGLE_SHEETS_NAME}!1:1\"\n",
        "        ).execute()\n",
        "        headers = headers_resp.get(\"values\", [[]])\n",
        "        headers = headers[0] if headers else []\n",
        "\n",
        "        # Datos (primeras `max_filas` filas después del encabezado)\n",
        "        data_resp = service.spreadsheets().values().get(\n",
        "            spreadsheetId=GOOGLE_SHEETS_SPREADSHEET_ID,\n",
        "            range=f\"{GOOGLE_SHEETS_NAME}!A2:ZZ{max(2, max_filas+1)}\"\n",
        "        ).execute()\n",
        "        rows = data_resp.get(\"values\", [])\n",
        "\n",
        "        return {\"headers\": headers, \"rows\": rows}\n",
        "\n",
        "    except Exception as e:\n",
        "        return {\"headers\": [], \"rows\": [], \"error\": str(e)}\n"
      ]
    },
    {
      "cell_type": "markdown",
      "metadata": {
        "id": "r20QTl2ujCqn"
      },
      "source": [
        "## Función registro de cliente"
      ]
    },
    {
      "cell_type": "code",
      "execution_count": null,
      "metadata": {
        "id": "y1laTQEkDR71"
      },
      "outputs": [],
      "source": [
        "def registrar_cliente(email: str, nombres: str, apellidos: str, numero_documento: str, telefono: str):\n",
        "    \"\"\"\n",
        "    Registra una nueva fila en Google Sheets\n",
        "\n",
        "    Args:\n",
        "        email: Correo electrónico del usuario\n",
        "        nombres: Nombre del usuario\n",
        "        apellidos: Apellido del usuario\n",
        "        numero_documento: Número de documento\n",
        "        telefono: Número de teléfono\n",
        "\n",
        "    Returns:\n",
        "        str: 'ok' si la operación fue exitosa\n",
        "    \"\"\"\n",
        "    try:\n",
        "        # Configuración de credenciales y parámetros de la hoja\n",
        "        credentials_file = CREDENTIALS_FILE\n",
        "        spreadsheet_id = GOOGLE_SHEETS_SPREADSHEET_ID\n",
        "        sheet_name = GOOGLE_SHEETS_NAME\n",
        "\n",
        "        # Scopes necesarios para acceder a Google Sheets y Drive\n",
        "        scopes = [\n",
        "            'https://www.googleapis.com/auth/spreadsheets',\n",
        "            'https://www.googleapis.com/auth/drive.file'\n",
        "        ]\n",
        "\n",
        "        # Autenticación con credenciales del servicio\n",
        "        credentials = Credentials.from_service_account_file(credentials_file, scopes=scopes)\n",
        "        service = build('sheets', 'v4', credentials=credentials)\n",
        "\n",
        "        # Fecha y hora de registro (formato dd/mm/yyyy HH:MM:SS)\n",
        "        fecha_registro = datetime.now().strftime('%d/%m/%Y %H:%M:%S')\n",
        "\n",
        "        # Preparar los datos de la nueva fila\n",
        "        new_row = [\n",
        "            fecha_registro,\n",
        "            email,\n",
        "            nombres,\n",
        "            apellidos,\n",
        "            numero_documento,\n",
        "            telefono\n",
        "        ]\n",
        "\n",
        "        # Rango destino de la hoja (A:F → 6 columnas)\n",
        "        range_to_append = f\"{sheet_name}!A:F\"\n",
        "\n",
        "        # Cuerpo de la petición con los valores a insertar\n",
        "        body = {\n",
        "            'values': [new_row]\n",
        "        }\n",
        "\n",
        "        # Obtener datos existentes en la columna A para saber cuántas filas ocupadas hay\n",
        "        existing_data = service.spreadsheets().values().get(\n",
        "            spreadsheetId=spreadsheet_id,\n",
        "            range=f\"{sheet_name}!A:A\"\n",
        "        ).execute()\n",
        "\n",
        "        # Calcular la próxima fila vacía (longitud de filas existentes + 1)\n",
        "        existing_rows = len(existing_data.get('values', []))\n",
        "        next_row = existing_rows + 1\n",
        "\n",
        "        # Rango específico donde se insertará la nueva fila\n",
        "        specific_range = f\"{sheet_name}!A{next_row}:F{next_row}\"\n",
        "\n",
        "        # Insertar valores en la fila calculada\n",
        "        result = service.spreadsheets().values().update(\n",
        "            spreadsheetId=spreadsheet_id,\n",
        "            range=specific_range,\n",
        "            valueInputOption='RAW',\n",
        "            body=body\n",
        "        ).execute()\n",
        "\n",
        "        # Confirmación de filas agregadas (aunque en este caso siempre será 1 si es exitoso)\n",
        "        rows_added = result.get(\"updates\", {}).get(\"updatedRows\", 0)\n",
        "\n",
        "        print(f'Usuario registrado correctamente')\n",
        "        print(f'Fecha de registro: {fecha_registro}')\n",
        "\n",
        "        return 'ok'\n",
        "\n",
        "    except Exception as error:\n",
        "        # Captura de errores y relanzamiento para debugging\n",
        "        print(f'Error al registrar el usuario: {error}')\n",
        "        raise error\n"
      ]
    },
    {
      "cell_type": "markdown",
      "metadata": {
        "id": "v5KGAy3UmwKs"
      },
      "source": [
        "## Prueba de función nueva"
      ]
    },
    {
      "cell_type": "code",
      "execution_count": null,
      "metadata": {
        "id": "-HqV3_DbmyCQ"
      },
      "outputs": [],
      "source": [
        "print(registrar_cliente(\"dlady@gmail.com\", \"Diana\", \"Laura\", \"25252545\", \"951561971\"))"
      ]
    },
    {
      "cell_type": "markdown",
      "metadata": {
        "id": "23uC0p8omz7q"
      },
      "source": [
        "## Asignar función a asistente"
      ]
    },
    {
      "cell_type": "code",
      "execution_count": null,
      "metadata": {
        "id": "QAQfyFlCjnzo"
      },
      "outputs": [],
      "source": [
        "# Asistente\n",
        "assistant_id = \"asst_LRnpEfCeAI0capFlNzfIOIrZ\""
      ]
    },
    {
      "cell_type": "code",
      "execution_count": null,
      "metadata": {
        "id": "7n60rsAXjCDO"
      },
      "outputs": [],
      "source": [
        "herramienta_registrar_cliente = {\n",
        "    \"type\": \"function\",\n",
        "    \"function\": {\n",
        "        \"name\": \"registrar_cliente\",\n",
        "        \"description\": \"Registra un cliente cuando indica que quiere ser matricularse en un curso o programa.\",\n",
        "        \"parameters\": {\n",
        "            \"type\": \"object\",\n",
        "            \"properties\": {\n",
        "                \"email\": {\n",
        "                    \"type\": \"string\",\n",
        "                    \"description\": \"Email del cliente.\"\n",
        "                },\n",
        "                \"nombres\": {\n",
        "                    \"type\": \"string\",\n",
        "                    \"description\": \"Nombres del cliente.\"\n",
        "                },\n",
        "                \"apellidos\": {\n",
        "                    \"type\": \"string\",\n",
        "                    \"description\": \"Apellidos del cliente.\"\n",
        "                },\n",
        "                \"numero_documento\": {\n",
        "                    \"type\": \"string\",\n",
        "                    \"description\": \"Numero de documento del cliente\"\n",
        "                },\n",
        "                \"telefono\": {\n",
        "                    \"type\": \"string\",\n",
        "                    \"description\": \"Telefono del cliente..\"\n",
        "                }\n",
        "            },\n",
        "            \"required\": [\n",
        "                \"email\",\n",
        "                \"nombres\",\n",
        "                \"apellidos\",\n",
        "                \"numero_documento\",\n",
        "                \"telefono\"\n",
        "            ],\n",
        "            \"additionalProperties\": False\n",
        "        }\n",
        "    }\n",
        "}"
      ]
    },
    {
      "cell_type": "code",
      "execution_count": null,
      "metadata": {
        "id": "vvW9wEGtm4EN"
      },
      "outputs": [],
      "source": [
        "# Recuperar nuestro asistente\n",
        "mi_asistente = client.beta.assistants.retrieve(assistant_id)\n",
        "print(mi_asistente)"
      ]
    },
    {
      "cell_type": "code",
      "execution_count": null,
      "metadata": {
        "id": "i8cKUQjGnRAD"
      },
      "outputs": [],
      "source": [
        "# Obtener las tools que tenemos\n",
        "herramientas_actuales = mi_asistente.tools or []\n",
        "print(herramientas_actuales)\n",
        "print(f\"Herramientas existentes: {len(herramientas_actuales)}\")"
      ]
    },
    {
      "cell_type": "code",
      "execution_count": null,
      "metadata": {
        "id": "KPh7U_ZVnZIM"
      },
      "outputs": [],
      "source": [
        "# Agregar tu herramienta a las actuales\n",
        "herramientas_actualizadas = herramientas_actuales + [herramienta_registrar_cliente]\n",
        "\n",
        "# Actualizar el asistente con la nueva lista de herramientas\n",
        "assistant_actualizado = client.beta.assistants.update(\n",
        "    assistant_id=assistant_id,\n",
        "    tools=herramientas_actualizadas\n",
        ")\n",
        "\n",
        "print(f\"Asistente actualizado con {len(herramientas_actualizadas)} herramientas\")"
      ]
    },
    {
      "cell_type": "markdown",
      "metadata": {
        "id": "3EThFH2INMSb"
      },
      "source": [
        "## Funcion de contar registros"
      ]
    },
    {
      "cell_type": "code",
      "execution_count": null,
      "metadata": {
        "id": "BuLrHVhWNN-T"
      },
      "outputs": [],
      "source": [
        "def contar_registros():\n",
        "    \"\"\"\n",
        "    Cuenta cuántos registros (filas) hay en el Google Sheet\n",
        "\n",
        "    Args:\n",
        "        include_headers: Si incluir la fila de headers en el conteo (por defecto False)\n",
        "\n",
        "    Returns:\n",
        "        int: Número de registros\n",
        "    \"\"\"\n",
        "    GOOGLE_SHEETS_SPREADSHEET_ID = \"\"\n",
        "    GOOGLE_SHEETS_NAME = \"registros\"\n",
        "    CREDENTIALS_FILE = \"\"\n",
        "    include_headers = False\n",
        "    try:\n",
        "        # Scopes necesarios para Google Sheets\n",
        "        scopes = [\n",
        "            'https://www.googleapis.com/auth/spreadsheets',\n",
        "            'https://www.googleapis.com/auth/drive.file'\n",
        "        ]\n",
        "\n",
        "        # Cargar credenciales desde el archivo JSON\n",
        "        credentials = Credentials.from_service_account_file(\n",
        "            CREDENTIALS_FILE,\n",
        "            scopes=scopes\n",
        "        )\n",
        "\n",
        "        # Crear el servicio de Google Sheets\n",
        "        service = build('sheets', 'v4', credentials=credentials)\n",
        "\n",
        "        # Obtener todas las filas con datos (columna A como referencia)\n",
        "        result = service.spreadsheets().values().get(\n",
        "            spreadsheetId=GOOGLE_SHEETS_SPREADSHEET_ID,\n",
        "            range=f\"{GOOGLE_SHEETS_NAME}!A:A\"\n",
        "        ).execute()\n",
        "\n",
        "        # Contar filas con datos\n",
        "        rows_with_data = result.get('values', [])\n",
        "        total_rows = len(rows_with_data)\n",
        "\n",
        "        if include_headers:\n",
        "            registros = total_rows\n",
        "            print(f'Total de filas (incluyendo headers): {registros}')\n",
        "        else:\n",
        "            # Restar 1 para excluir la fila de headers\n",
        "            registros = max(0, total_rows - 1)\n",
        "            print(f'Total de registros (sin headers): {registros}')\n",
        "            print(f'Total de filas (con headers): {total_rows}')\n",
        "\n",
        "        return f\"Hay {registros} clientes registrados\"\n",
        "\n",
        "    except Exception as error:\n",
        "        print(f'Error al contar registros: {error}')\n",
        "        raise error"
      ]
    },
    {
      "cell_type": "markdown",
      "metadata": {
        "id": "FkDg_5HdNsK0"
      },
      "source": [
        "## Probar funcion"
      ]
    },
    {
      "cell_type": "code",
      "execution_count": null,
      "metadata": {
        "id": "j_r6oPIZNtcN"
      },
      "outputs": [],
      "source": [
        "print(contar_registros())"
      ]
    },
    {
      "cell_type": "markdown",
      "metadata": {
        "id": "hXc9CBsHP8EV"
      },
      "source": [
        "## Registrar herramienta de conteo de clientes"
      ]
    },
    {
      "cell_type": "code",
      "execution_count": null,
      "metadata": {
        "id": "p8tM8CCIP-Xf"
      },
      "outputs": [],
      "source": [
        "herramienta_contar_registros = {\n",
        "    \"type\": \"function\",\n",
        "    \"function\": {\n",
        "        \"name\": \"contar_registros\",\n",
        "        \"description\": \"Obtiene la cantidad de clientes registrados\"\n",
        "    }\n",
        "}"
      ]
    },
    {
      "cell_type": "code",
      "execution_count": null,
      "metadata": {
        "id": "2gplVX3AQMvr"
      },
      "outputs": [],
      "source": [
        "# Recuperar nuestro asistente\n",
        "mi_asistente = client.beta.assistants.retrieve(assistant_id)\n",
        "print(mi_asistente)\n",
        "\n",
        "# Obtener las tools que tenemos\n",
        "herramientas_actuales = mi_asistente.tools or []\n",
        "print(herramientas_actuales)\n",
        "print(f\"Herramientas existentes: {len(herramientas_actuales)}\")\n",
        "\n",
        "# Agregar tu herramienta a las actuales\n",
        "herramientas_actualizadas = herramientas_actuales + [herramienta_contar_registros]\n",
        "\n",
        "# Actualizar el asistente con la nueva lista de herramientas\n",
        "assistant_actualizado = client.beta.assistants.update(\n",
        "    assistant_id=assistant_id,\n",
        "    tools=herramientas_actualizadas\n",
        ")\n",
        "\n",
        "print(f\"Asistente actualizado con {len(herramientas_actualizadas)} herramientas\")"
      ]
    },
    {
      "cell_type": "markdown",
      "metadata": {
        "id": "pep4zSA-Y8hx"
      },
      "source": [
        "## Probar las funciones"
      ]
    },
    {
      "cell_type": "code",
      "execution_count": null,
      "metadata": {
        "id": "kYAVDZNQan5S"
      },
      "outputs": [],
      "source": [
        "import json\n",
        "import time\n",
        "\n",
        "def chat_interactivo(assistant_id):\n",
        "    \"\"\"\n",
        "    Chat interactivo con el asistente de OpenAI\n",
        "    Escribe 'salir' para terminar la conversación\n",
        "    \"\"\"\n",
        "\n",
        "    # Crear un nuevo thread para la conversación\n",
        "    thread = client.beta.threads.create()\n",
        "    print(\"🤖 ¡Hola! Soy tu asistente. Puedo ayudarte a contar clientes registrados y registrar nuevos clientes.\")\n",
        "    print(\"💡 Escribe 'salir' para terminar la conversación\\n\")\n",
        "\n",
        "    while True:\n",
        "        # Obtener entrada del usuario\n",
        "        mensaje_usuario = input(\"👤 Tú: \").strip()\n",
        "\n",
        "        # Verificar si quiere salir\n",
        "        if mensaje_usuario.lower() in ['salir', 'exit', 'quit', 'bye']:\n",
        "            print(\"🤖 ¡Hasta luego! 👋\")\n",
        "            break\n",
        "\n",
        "        if not mensaje_usuario:\n",
        "            print(\"🤖 Por favor escribe algo o 'salir' para terminar.\")\n",
        "            continue\n",
        "\n",
        "        try:\n",
        "            # Procesar mensaje y obtener respuesta\n",
        "            respuesta = procesar_mensaje(assistant_id, thread.id, mensaje_usuario)\n",
        "            print(f\"🤖 Asistente: {respuesta}\\n\")\n",
        "\n",
        "        except Exception as e:\n",
        "            print(f\"❌ Error: {str(e)}\\n\")\n",
        "\n",
        "def procesar_mensaje(assistant_id, thread_id, mensaje_usuario):\n",
        "    \"\"\"\n",
        "    Procesa un mensaje del usuario y maneja las llamadas a funciones\n",
        "    \"\"\"\n",
        "\n",
        "    # Agregar mensaje del usuario al thread\n",
        "    client.beta.threads.messages.create(\n",
        "        thread_id=thread_id,\n",
        "        role=\"user\",\n",
        "        content=mensaje_usuario\n",
        "    )\n",
        "\n",
        "    # Crear run\n",
        "    run = client.beta.threads.runs.create(\n",
        "        thread_id=thread_id,\n",
        "        assistant_id=assistant_id\n",
        "    )\n",
        "\n",
        "    # Manejar el run hasta completarse\n",
        "    while True:\n",
        "        run_status = client.beta.threads.runs.retrieve(\n",
        "            thread_id=thread_id,\n",
        "            run_id=run.id\n",
        "        )\n",
        "\n",
        "        if run_status.status == \"completed\":\n",
        "            break\n",
        "\n",
        "        elif run_status.status == \"requires_action\":\n",
        "            print(\"🔧 Ejecutando función...\")\n",
        "\n",
        "            # Obtener las llamadas a funciones requeridas\n",
        "            tool_calls = run_status.required_action.submit_tool_outputs.tool_calls\n",
        "            tool_outputs = []\n",
        "\n",
        "            for tool_call in tool_calls:\n",
        "                function_name = tool_call.function.name\n",
        "\n",
        "                try:\n",
        "                    if function_name == \"contar_registros\":\n",
        "                        print(\"📊 Contando registros...\")\n",
        "                        resultado = contar_registros()\n",
        "                        tool_outputs.append({\n",
        "                            \"tool_call_id\": tool_call.id,\n",
        "                            \"output\": resultado\n",
        "                        })\n",
        "\n",
        "                    elif function_name == \"registrar_cliente\":\n",
        "                        print(\"📝 Registrando nuevo cliente...\")\n",
        "\n",
        "                        # Parsear argumentos de la función\n",
        "                        argumentos = json.loads(tool_call.function.arguments)\n",
        "\n",
        "                        # Ejecutar la función con los argumentos\n",
        "                        resultado = registrar_cliente(\n",
        "                            email=argumentos.get('email'),\n",
        "                            nombres=argumentos.get('nombres'),\n",
        "                            apellidos=argumentos.get('apellidos'),\n",
        "                            numero_documento=argumentos.get('numero_documento'),\n",
        "                            telefono=argumentos.get('telefono')\n",
        "                        )\n",
        "\n",
        "                        tool_outputs.append({\n",
        "                            \"tool_call_id\": tool_call.id,\n",
        "                            \"output\": f\"Cliente registrado exitosamente: {resultado}\"\n",
        "                        })\n",
        "\n",
        "                    else:\n",
        "                        tool_outputs.append({\n",
        "                            \"tool_call_id\": tool_call.id,\n",
        "                            \"output\": f\"Función no reconocida: {function_name}\"\n",
        "                        })\n",
        "\n",
        "                except Exception as e:\n",
        "                    print(f\"❌ Error ejecutando {function_name}: {str(e)}\")\n",
        "                    tool_outputs.append({\n",
        "                        \"tool_call_id\": tool_call.id,\n",
        "                        \"output\": f\"Error al ejecutar la función: {str(e)}\"\n",
        "                    })\n",
        "\n",
        "            # Enviar los resultados de vuelta a OpenAI\n",
        "            client.beta.threads.runs.submit_tool_outputs(\n",
        "                thread_id=thread_id,\n",
        "                run_id=run.id,\n",
        "                tool_outputs=tool_outputs\n",
        "            )\n",
        "\n",
        "        elif run_status.status == \"failed\":\n",
        "            return \"❌ Lo siento, hubo un error procesando tu solicitud.\"\n",
        "\n",
        "        elif run_status.status == \"expired\":\n",
        "            return \"⏰ La solicitud expiró. Intenta de nuevo.\"\n",
        "\n",
        "        # Esperar un poco antes de verificar de nuevo\n",
        "        time.sleep(1)\n",
        "\n",
        "    # Obtener la respuesta final del asistente\n",
        "    messages = client.beta.threads.messages.list(thread_id=thread_id)\n",
        "    return messages.data[0].content[0].text.value"
      ]
    },
    {
      "cell_type": "code",
      "execution_count": null,
      "metadata": {
        "id": "Q8UHEP80aq9Q"
      },
      "outputs": [],
      "source": [
        "chat_interactivo(assistant_id)"
      ]
    },
    {
      "cell_type": "markdown",
      "metadata": {
        "id": "0fAz03v3dQpp"
      },
      "source": [
        "# Prueba en aplicacion web"
      ]
    },
    {
      "cell_type": "code",
      "execution_count": null,
      "metadata": {
        "id": "7MUwiSW1b3AF"
      },
      "outputs": [],
      "source": [
        "!pip install gradio"
      ]
    },
    {
      "cell_type": "code",
      "execution_count": null,
      "metadata": {
        "id": "Kg-WCPKib0_h"
      },
      "outputs": [],
      "source": [
        "# Instalar Gradio (ejecutar en la primera celda de Colab)\n",
        "# !pip install gradio\n",
        "\n",
        "import gradio as gr\n",
        "import json\n",
        "import time\n",
        "from openai import OpenAI\n",
        "\n",
        "# Configurar tu cliente OpenAI\n",
        "client = OpenAI(api_key=\"TU_API_KEY\")\n",
        "assistant_id = assistant_id\n",
        "\n",
        "# Variables globales para mantener el estado del chat\n",
        "thread_id = None\n",
        "\n",
        "def inicializar_chat():\n",
        "    \"\"\"Inicializa un nuevo thread para el chat\"\"\"\n",
        "    global thread_id\n",
        "    thread = client.beta.threads.create()\n",
        "    thread_id = thread.id\n",
        "    return \"¡Hola! 👋 Soy tu asistente. Puedo ayudarte a contar clientes registrados y registrar nuevos clientes.\"\n",
        "\n",
        "def procesar_mensaje_gradio(mensaje, historial):\n",
        "    \"\"\"\n",
        "    Procesa un mensaje en Gradio y actualiza el historial\n",
        "    \"\"\"\n",
        "    global thread_id\n",
        "\n",
        "    if not thread_id:\n",
        "        inicializar_chat()\n",
        "\n",
        "    if not mensaje.strip():\n",
        "        return historial, \"\"\n",
        "\n",
        "    # Agregar mensaje del usuario al historial\n",
        "    historial.append([mensaje, None])\n",
        "\n",
        "    try:\n",
        "        # Procesar con OpenAI\n",
        "        respuesta = procesar_mensaje_openai(assistant_id, thread_id, mensaje)\n",
        "\n",
        "        # Actualizar el historial con la respuesta\n",
        "        historial[-1][1] = respuesta\n",
        "\n",
        "    except Exception as e:\n",
        "        historial[-1][1] = f\"❌ Error: {str(e)}\"\n",
        "\n",
        "    return historial, \"\"\n",
        "\n",
        "def procesar_mensaje_openai(assistant_id, thread_id, mensaje_usuario):\n",
        "    \"\"\"\n",
        "    Procesa un mensaje con OpenAI y maneja las llamadas a funciones\n",
        "    \"\"\"\n",
        "\n",
        "    # Agregar mensaje del usuario al thread\n",
        "    client.beta.threads.messages.create(\n",
        "        thread_id=thread_id,\n",
        "        role=\"user\",\n",
        "        content=mensaje_usuario\n",
        "    )\n",
        "\n",
        "    # Crear run\n",
        "    run = client.beta.threads.runs.create(\n",
        "        thread_id=thread_id,\n",
        "        assistant_id=assistant_id\n",
        "    )\n",
        "\n",
        "    # Manejar el run hasta completarse\n",
        "    while True:\n",
        "        run_status = client.beta.threads.runs.retrieve(\n",
        "            thread_id=thread_id,\n",
        "            run_id=run.id\n",
        "        )\n",
        "\n",
        "        if run_status.status == \"completed\":\n",
        "            break\n",
        "\n",
        "        elif run_status.status == \"requires_action\":\n",
        "            # Obtener las llamadas a funciones requeridas\n",
        "            tool_calls = run_status.required_action.submit_tool_outputs.tool_calls\n",
        "            tool_outputs = []\n",
        "\n",
        "            for tool_call in tool_calls:\n",
        "                function_name = tool_call.function.name\n",
        "\n",
        "                try:\n",
        "                    if function_name == \"contar_registros\":\n",
        "                        resultado = contar_registros()\n",
        "                        tool_outputs.append({\n",
        "                            \"tool_call_id\": tool_call.id,\n",
        "                            \"output\": resultado\n",
        "                        })\n",
        "\n",
        "                    elif function_name == \"registrar_cliente\":\n",
        "                        # Parsear argumentos de la función\n",
        "                        argumentos = json.loads(tool_call.function.arguments)\n",
        "\n",
        "                        # Ejecutar la función con los argumentos\n",
        "                        resultado = registrar_cliente(\n",
        "                            email=argumentos.get('email'),\n",
        "                            nombres=argumentos.get('nombres'),\n",
        "                            apellidos=argumentos.get('apellidos'),\n",
        "                            numero_documento=argumentos.get('numero_documento'),\n",
        "                            telefono=argumentos.get('telefono')\n",
        "                        )\n",
        "\n",
        "                        tool_outputs.append({\n",
        "                            \"tool_call_id\": tool_call.id,\n",
        "                            \"output\": f\"Cliente registrado exitosamente: {resultado}\"\n",
        "                        })\n",
        "\n",
        "                    else:\n",
        "                        tool_outputs.append({\n",
        "                            \"tool_call_id\": tool_call.id,\n",
        "                            \"output\": f\"Función no reconocida: {function_name}\"\n",
        "                        })\n",
        "\n",
        "                except Exception as e:\n",
        "                    tool_outputs.append({\n",
        "                        \"tool_call_id\": tool_call.id,\n",
        "                        \"output\": f\"Error al ejecutar la función: {str(e)}\"\n",
        "                    })\n",
        "\n",
        "            # Enviar los resultados de vuelta a OpenAI\n",
        "            client.beta.threads.runs.submit_tool_outputs(\n",
        "                thread_id=thread_id,\n",
        "                run_id=run.id,\n",
        "                tool_outputs=tool_outputs\n",
        "            )\n",
        "\n",
        "        elif run_status.status == \"failed\":\n",
        "            return \"❌ Lo siento, hubo un error procesando tu solicitud.\"\n",
        "\n",
        "        elif run_status.status == \"expired\":\n",
        "            return \"⏰ La solicitud expiró. Intenta de nuevo.\"\n",
        "\n",
        "        # Esperar un poco antes de verificar de nuevo\n",
        "        time.sleep(1)\n",
        "\n",
        "    # Obtener la respuesta final del asistente\n",
        "    messages = client.beta.threads.messages.list(thread_id=thread_id)\n",
        "    return messages.data[0].content[0].text.value\n",
        "\n",
        "def nuevo_chat():\n",
        "    \"\"\"Reinicia el chat\"\"\"\n",
        "    global thread_id\n",
        "    thread_id = None\n",
        "    mensaje_inicial = inicializar_chat()\n",
        "    return [[None, mensaje_inicial]], \"\"\n",
        "\n",
        "def crear_interfaz():\n",
        "    \"\"\"Crea la interfaz de Gradio\"\"\"\n",
        "\n",
        "    # CSS personalizado para mejorar la apariencia\n",
        "    css = \"\"\"\n",
        "    .container {\n",
        "        max-width: 800px !important;\n",
        "        margin: auto !important;\n",
        "    }\n",
        "    .chat-container {\n",
        "        height: 500px !important;\n",
        "    }\n",
        "    .message {\n",
        "        padding: 10px !important;\n",
        "        margin: 5px !important;\n",
        "        border-radius: 10px !important;\n",
        "    }\n",
        "    \"\"\"\n",
        "\n",
        "    with gr.Blocks(css=css, title=\"💬 Chat con Asistente de Clientes\") as demo:\n",
        "\n",
        "        gr.HTML(\"\"\"\n",
        "        <div style=\"text-align: center; padding: 20px;\">\n",
        "            <h1>💬 Chat con Asistente de Clientes</h1>\n",
        "            <p>Tu asistente personal para gestionar clientes registrados</p>\n",
        "        </div>\n",
        "        \"\"\")\n",
        "\n",
        "        with gr.Row():\n",
        "            with gr.Column(scale=4):\n",
        "                # Interfaz de chat\n",
        "                chatbot = gr.Chatbot(\n",
        "                    value=[[None, \"¡Hola! 👋 Soy tu asistente. Puedo ayudarte a contar clientes registrados y registrar nuevos clientes.\"]],\n",
        "                    elem_classes=[\"chat-container\"],\n",
        "                    bubble_full_width=False,\n",
        "                    show_label=False\n",
        "                )\n",
        "\n",
        "                with gr.Row():\n",
        "                    mensaje_input = gr.Textbox(\n",
        "                        placeholder=\"Escribe tu mensaje aquí...\",\n",
        "                        show_label=False,\n",
        "                        scale=4\n",
        "                    )\n",
        "                    enviar_btn = gr.Button(\"Enviar 📤\", scale=1, variant=\"primary\")\n",
        "\n",
        "            with gr.Column(scale=1):\n",
        "                gr.HTML(\"\"\"\n",
        "                <div style=\"padding: 20px; background: #f5f5f5; border-radius: 10px;\">\n",
        "                    <h3>💡 Comandos útiles:</h3>\n",
        "                    <ul>\n",
        "                        <li><b>Contar clientes:</b><br>\"¿Cuántos clientes hay?\"</li>\n",
        "                        <li><b>Registrar cliente:</b><br>\"Registra a Juan Pérez con email juan@gmail.com...\"</li>\n",
        "                    </ul>\n",
        "\n",
        "                    <h3>📋 Datos necesarios para registro:</h3>\n",
        "                    <ul>\n",
        "                        <li>Nombres</li>\n",
        "                        <li>Apellidos</li>\n",
        "                        <li>Email</li>\n",
        "                        <li>Documento</li>\n",
        "                        <li>Teléfono</li>\n",
        "                    </ul>\n",
        "                </div>\n",
        "                \"\"\")\n",
        "\n",
        "                nuevo_chat_btn = gr.Button(\"🔄 Nuevo Chat\", variant=\"secondary\")\n",
        "\n",
        "        # Eventos\n",
        "        mensaje_input.submit(\n",
        "            procesar_mensaje_gradio,\n",
        "            [mensaje_input, chatbot],\n",
        "            [chatbot, mensaje_input]\n",
        "        )\n",
        "\n",
        "        enviar_btn.click(\n",
        "            procesar_mensaje_gradio,\n",
        "            [mensaje_input, chatbot],\n",
        "            [chatbot, mensaje_input]\n",
        "        )\n",
        "\n",
        "        nuevo_chat_btn.click(\n",
        "            nuevo_chat,\n",
        "            outputs=[chatbot, mensaje_input]\n",
        "        )\n",
        "\n",
        "    return demo\n",
        "\n",
        "# Inicializar la aplicación\n",
        "if __name__ == \"__main__\":\n",
        "    # 2. Inicializar chat\n",
        "    inicializar_chat()\n",
        "\n",
        "    # 3. Crear y lanzar la interfaz\n",
        "    demo = crear_interfaz()\n",
        "    demo.launch(\n",
        "        share=True,  # Crea una URL pública\n",
        "        debug=True,\n",
        "        server_name=\"0.0.0.0\",\n",
        "        server_port=7860\n",
        "    )"
      ]
    }
  ],
  "metadata": {
    "colab": {
      "provenance": []
    },
    "kernelspec": {
      "display_name": "venv",
      "language": "python",
      "name": "python3"
    },
    "language_info": {
      "codemirror_mode": {
        "name": "ipython",
        "version": 3
      },
      "file_extension": ".py",
      "mimetype": "text/x-python",
      "name": "python",
      "nbconvert_exporter": "python",
      "pygments_lexer": "ipython3",
      "version": "3.13.7"
    }
  },
  "nbformat": 4,
  "nbformat_minor": 0
}
